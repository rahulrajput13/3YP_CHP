{
 "cells": [
  {
   "cell_type": "markdown",
   "metadata": {},
   "source": [
    "# Energy System Model"
   ]
  },
  {
   "cell_type": "markdown",
   "metadata": {},
   "source": [
    "Load python libraries"
   ]
  },
  {
   "cell_type": "code",
   "execution_count": 1,
   "metadata": {},
   "outputs": [],
   "source": [
    "import numpy as np\n",
    "import matplotlib.pyplot as plt\n",
    "%matplotlib inline"
   ]
  },
  {
   "cell_type": "markdown",
   "metadata": {},
   "source": [
    "Load 3YP specific libraries"
   ]
  },
  {
   "cell_type": "code",
   "execution_count": 2,
   "metadata": {},
   "outputs": [],
   "source": [
    "import Assets as AS\n",
    "import EnergySystem as ES      \n",
    "import Market as MK"
   ]
  },
  {
   "cell_type": "markdown",
   "metadata": {},
   "source": [
    "Set parameters common to energy system"
   ]
  },
  {
   "cell_type": "code",
   "execution_count": 3,
   "metadata": {},
   "outputs": [],
   "source": [
    "dt = 30/60 #1 minute time intervals\n",
    "T = int(24/dt) #Number of intervals"
   ]
  },
  {
   "cell_type": "markdown",
   "metadata": {},
   "source": [
    "Setup the assets"
   ]
  },
  {
   "cell_type": "code",
   "execution_count": 4,
   "metadata": {},
   "outputs": [],
   "source": [
    "dispatchable = []\n",
    "non_dispatchable = []\n",
    "all_assets = []\n",
    "\n",
    "#PV source\n",
    "pv_capacity = 3 # kW\n",
    "pv_site1 = AS.pvAsset(pv_capacity)\n",
    "non_dispatchable.append(pv_site1)\n",
    "\n",
    "#Load\n",
    "nHouses = 1\n",
    "load_site1 = AS.loadAsset(nHouses)\n",
    "non_dispatchable.append(load_site1)\n",
    "\n",
    "#Battery\n",
    "battery_capacity = 2.5 # kWh\n",
    "battery_power = 1 # kW\n",
    "battery_site1 = AS.IdealBatteryAsset(battery_capacity, battery_power, dt, T)\n",
    "dispatchable.append(battery_site1)"
   ]
  },
  {
   "cell_type": "markdown",
   "metadata": {},
   "source": [
    "Setup and run energy system"
   ]
  },
  {
   "cell_type": "code",
   "execution_count": 5,
   "metadata": {},
   "outputs": [],
   "source": [
    "# setup\n",
    "energy_system = ES.EnergySystem(non_dispatchable, dispatchable, dt, T)\n",
    "# run\n",
    "net_load = energy_system.basic_energy_balance()"
   ]
  },
  {
   "cell_type": "markdown",
   "metadata": {},
   "source": [
    "Setup and run the market"
   ]
  },
  {
   "cell_type": "code",
   "execution_count": 6,
   "metadata": {},
   "outputs": [],
   "source": [
    "# setup\n",
    "market1 = MK.marketObject()\n",
    "# run\n",
    "opCost = market1.getOpCost(net_load)"
   ]
  },
  {
   "cell_type": "markdown",
   "metadata": {},
   "source": [
    "Display outputs"
   ]
  },
  {
   "cell_type": "code",
   "execution_count": 9,
   "metadata": {},
   "outputs": [
    {
     "name": "stdout",
     "output_type": "stream",
     "text": [
      "Operating cost: £ 0.403\n"
     ]
    },
    {
     "data": {
      "image/png": "[encoded data removed]",
      "text/plain": [
       "<matplotlib.figure.Figure at 0x11d6a97b8>"
      ]
     },
     "metadata": {
      "needs_background": "light"
     },
     "output_type": "display_data"
    }
   ],
   "source": [
    "print('Operating cost: £ %3.3f'%(opCost/100))\n",
    "\n",
    "labels = ['PV Output', 'Battery Operation']\n",
    "ax = plt.subplot(1,1,1)\n",
    "p1 = plt.stackplot(np.arange(48), pv_site1.output.T, battery_site1.output.T, labels=labels)\n",
    "p2 = plt.plot(load_site1.output, '-k', label='Load')\n",
    "plt.xticks([0, 12, 24, 36, 48])\n",
    "ax.set_xticklabels(['00:00','06:00','12:00','18:00','00:00'])\n",
    "plt.ylabel('(kWh)', color='k')\n",
    "plt.xlabel('Time', color='k')\n",
    "ax.legend()\n",
    "plt.show()"
   ]
  },
  {
   "cell_type": "code",
   "execution_count": null,
   "metadata": {},
   "outputs": [],
   "source": []
  }
 ],
 "metadata": {
  "kernelspec": {
   "display_name": "Python 3",
   "language": "python",
   "name": "python3"
  },
  "language_info": {
   "codemirror_mode": {
    "name": "ipython",
    "version": 3
   },
   "file_extension": ".py",
   "mimetype": "text/x-python",
   "name": "python",
   "nbconvert_exporter": "python",
   "pygments_lexer": "ipython3",
   "version": "3.6.5"
  }
 },
 "nbformat": 4,
 "nbformat_minor": 2
}
